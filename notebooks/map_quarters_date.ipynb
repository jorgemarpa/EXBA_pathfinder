{
 "cells": [
  {
   "cell_type": "code",
   "execution_count": 1,
   "metadata": {},
   "outputs": [],
   "source": [
    "import glob, os\n",
    "import shutil\n",
    "import argparse\n",
    "import wget\n",
    "\n",
    "from astropy.time import Time\n",
    "import numpy as np\n",
    "from astropy.io import fits\n",
    "import lightkurve as lk\n",
    "\n",
    "path = os.path.dirname(os.getcwd())"
   ]
  },
  {
   "cell_type": "code",
   "execution_count": 2,
   "metadata": {},
   "outputs": [],
   "source": [
    "CH = 1\n",
    "quarters = np.sort(np.array(os.listdir('%s/data/EXBA/%i/' % (path, CH)), dtype=int))"
   ]
  },
  {
   "cell_type": "markdown",
   "metadata": {},
   "source": [
    "# Get Qarters star and finish time"
   ]
  },
  {
   "cell_type": "code",
   "execution_count": 3,
   "metadata": {},
   "outputs": [],
   "source": [
    "quarter_times_edges = {}\n",
    "for i, q in enumerate(quarters):\n",
    "    files = np.sort(glob.glob(\"%s/data/EXBA/%i/%i/*.fits.gz\" % (path, CH, q)))\n",
    "\n",
    "    times = lk.KeplerTargetPixelFile(files[0]).time\n",
    "    quarter_times_edges[q] = [times.min(), times.max()]"
   ]
  },
  {
   "cell_type": "markdown",
   "metadata": {},
   "source": [
    "# Get FFI obs times"
   ]
  },
  {
   "cell_type": "code",
   "execution_count": 4,
   "metadata": {},
   "outputs": [],
   "source": [
    "ffi_list = np.sort(glob.glob(\"%s/data/ffi/kplr*_ffi-cal.fits\" % (path)))\n",
    "ffi_time = []\n",
    "for ffi in ffi_list:\n",
    "    hdr = fits.open(ffi)[CH].header\n",
    "    ffi_time.append(Time(hdr['MJDSTART'], format=\"mjd\"))"
   ]
  },
  {
   "cell_type": "code",
   "execution_count": 5,
   "metadata": {},
   "outputs": [
    {
     "data": {
      "text/plain": [
       "(53, 53)"
      ]
     },
     "execution_count": 5,
     "metadata": {},
     "output_type": "execute_result"
    }
   ],
   "source": [
    "len(ffi_time), len(ffi_list)"
   ]
  },
  {
   "cell_type": "markdown",
   "metadata": {},
   "source": [
    "### find mapping between ffi and quarters"
   ]
  },
  {
   "cell_type": "code",
   "execution_count": 6,
   "metadata": {},
   "outputs": [
    {
     "name": "stdout",
     "output_type": "stream",
     "text": [
      "5\n",
      "443.49088301277516\n"
     ]
    }
   ],
   "source": [
    "for q, edges in quarter_times_edges.items():\n",
    "    print(q)\n",
    "    print(edges[0])\n",
    "    break"
   ]
  },
  {
   "cell_type": "code",
   "execution_count": 7,
   "metadata": {},
   "outputs": [
    {
     "name": "stdout",
     "output_type": "stream",
     "text": [
      "2009.312037306831\n",
      "2009.3123796019713\n",
      "2009.3127933815742\n",
      "2009.313382867132\n",
      "2009.3136681821218\n",
      "2009.3142481363998\n",
      "2009.3147516337303\n",
      "2009.3159365290076\n",
      "2009.4638562413143\n",
      "2009.6325939144149\n",
      "2009.7097470966187\n",
      "2009.7975798076386\n",
      "2009.8821609249555\n",
      "2009.9589765895687\n",
      "2010.0518397238604\n",
      "2010.0520597709515\n",
      "2010.1334580926489\n",
      "2010.2127841980562\n",
      "2010.3025724838878\n",
      "2010.3816775100343\n",
      "2010.4754958615742\n",
      "2010.5531462999043\n",
      "2010.6400835198904\n",
      "2010.7250066908693\n",
      "2010.8098180357015\n",
      "2010.8918321745107\n",
      "2010.9721120458316\n",
      "2011.063807167803\n",
      "2011.1436508387133\n",
      "2011.315329343299\n",
      "2011.3952733435729\n",
      "2011.4823784003834\n",
      "2011.567301753429\n",
      "2011.6556933170157\n",
      "2011.7406724929226\n",
      "2011.8282811719096\n",
      "2011.9130365761532\n",
      "2012.009148580534\n",
      "2012.0846172362492\n",
      "2012.1615402544558\n",
      "2012.2382956463791\n",
      "2012.3285337000411\n",
      "2012.41049169128\n",
      "2012.4875268003832\n",
      "2012.5749676168105\n",
      "2012.6606738615742\n",
      "2012.7565621487747\n",
      "2012.8468561463108\n",
      "2012.9319471760164\n",
      "2013.0298494599315\n",
      "2013.1034719108557\n",
      "2013.1772063174265\n",
      "2013.267555933032\n"
     ]
    }
   ],
   "source": [
    "which_quarter = {}\n",
    "for i, ffi in enumerate(ffi_time):\n",
    "    print(ffi.jyear)\n",
    "    for q, edges in quarter_times_edges.items():\n",
    "        if ffi.mjd >= edges[0].mjd and ffi.mjd <= edges[1].mjd:\n",
    "            which_quarter[i] = q"
   ]
  },
  {
   "cell_type": "code",
   "execution_count": 8,
   "metadata": {},
   "outputs": [
    {
     "data": {
      "text/plain": [
       "{18: 5,\n",
       " 19: 5,\n",
       " 21: 6,\n",
       " 22: 6,\n",
       " 24: 7,\n",
       " 25: 7,\n",
       " 27: 8,\n",
       " 28: 8,\n",
       " 29: 9,\n",
       " 30: 9,\n",
       " 32: 10,\n",
       " 33: 10,\n",
       " 35: 11,\n",
       " 36: 11,\n",
       " 38: 12,\n",
       " 39: 12,\n",
       " 41: 13,\n",
       " 42: 13,\n",
       " 44: 14,\n",
       " 45: 14,\n",
       " 47: 15,\n",
       " 48: 15,\n",
       " 50: 16,\n",
       " 51: 16}"
      ]
     },
     "execution_count": 8,
     "metadata": {},
     "output_type": "execute_result"
    }
   ],
   "source": [
    "which_quarter"
   ]
  },
  {
   "cell_type": "code",
   "execution_count": 9,
   "metadata": {},
   "outputs": [
    {
     "data": {
      "text/plain": [
       "(2013.2709832551216, 2013.357979679425)"
      ]
     },
     "execution_count": 9,
     "metadata": {},
     "output_type": "execute_result"
    }
   ],
   "source": [
    "quarter_times_edges[17][0].jyear, quarter_times_edges[17][1].jyear"
   ]
  },
  {
   "cell_type": "code",
   "execution_count": 12,
   "metadata": {},
   "outputs": [
    {
     "data": {
      "text/plain": [
       "array(['/Users/jorgemarpa/Work/BAERI/ADAP/EXBA_pathfinder/data/ffi/kplr2009114174833_ffi-cal.fits',\n",
       "       '/Users/jorgemarpa/Work/BAERI/ADAP/EXBA_pathfinder/data/ffi/kplr2009114204835_ffi-cal.fits',\n",
       "       '/Users/jorgemarpa/Work/BAERI/ADAP/EXBA_pathfinder/data/ffi/kplr2009115002613_ffi-cal.fits',\n",
       "       '/Users/jorgemarpa/Work/BAERI/ADAP/EXBA_pathfinder/data/ffi/kplr2009115053616_ffi-cal.fits',\n",
       "       '/Users/jorgemarpa/Work/BAERI/ADAP/EXBA_pathfinder/data/ffi/kplr2009115080620_ffi-cal.fits',\n",
       "       '/Users/jorgemarpa/Work/BAERI/ADAP/EXBA_pathfinder/data/ffi/kplr2009115131122_ffi-cal.fits',\n",
       "       '/Users/jorgemarpa/Work/BAERI/ADAP/EXBA_pathfinder/data/ffi/kplr2009115173611_ffi-cal.fits',\n",
       "       '/Users/jorgemarpa/Work/BAERI/ADAP/EXBA_pathfinder/data/ffi/kplr2009116035924_ffi-cal.fits',\n",
       "       '/Users/jorgemarpa/Work/BAERI/ADAP/EXBA_pathfinder/data/ffi/kplr2009170043915_ffi-cal.fits',\n",
       "       '/Users/jorgemarpa/Work/BAERI/ADAP/EXBA_pathfinder/data/ffi/kplr2009231194831_ffi-cal.fits',\n",
       "       '/Users/jorgemarpa/Work/BAERI/ADAP/EXBA_pathfinder/data/ffi/kplr2009260000800_ffi-cal.fits',\n",
       "       '/Users/jorgemarpa/Work/BAERI/ADAP/EXBA_pathfinder/data/ffi/kplr2009292020429_ffi-cal.fits',\n",
       "       '/Users/jorgemarpa/Work/BAERI/ADAP/EXBA_pathfinder/data/ffi/kplr2009322233047_ffi-cal.fits',\n",
       "       '/Users/jorgemarpa/Work/BAERI/ADAP/EXBA_pathfinder/data/ffi/kplr2009351005245_ffi-cal.fits',\n",
       "       '/Users/jorgemarpa/Work/BAERI/ADAP/EXBA_pathfinder/data/ffi/kplr2010019225502_ffi-cal.fits',\n",
       "       '/Users/jorgemarpa/Work/BAERI/ADAP/EXBA_pathfinder/data/ffi/kplr2010020005046_ffi-cal.fits',\n",
       "       '/Users/jorgemarpa/Work/BAERI/ADAP/EXBA_pathfinder/data/ffi/kplr2010049182302_ffi-cal.fits',\n",
       "       '/Users/jorgemarpa/Work/BAERI/ADAP/EXBA_pathfinder/data/ffi/kplr2010078174524_ffi-cal.fits',\n",
       "       '/Users/jorgemarpa/Work/BAERI/ADAP/EXBA_pathfinder/data/ffi/kplr2010111125026_ffi-cal.fits',\n",
       "       '/Users/jorgemarpa/Work/BAERI/ADAP/EXBA_pathfinder/data/ffi/kplr2010140101631_ffi-cal.fits',\n",
       "       '/Users/jorgemarpa/Work/BAERI/ADAP/EXBA_pathfinder/data/ffi/kplr2010174164113_ffi-cal.fits',\n",
       "       '/Users/jorgemarpa/Work/BAERI/ADAP/EXBA_pathfinder/data/ffi/kplr2010203012215_ffi-cal.fits',\n",
       "       '/Users/jorgemarpa/Work/BAERI/ADAP/EXBA_pathfinder/data/ffi/kplr2010234192745_ffi-cal.fits',\n",
       "       '/Users/jorgemarpa/Work/BAERI/ADAP/EXBA_pathfinder/data/ffi/kplr2010265195356_ffi-cal.fits',\n",
       "       '/Users/jorgemarpa/Work/BAERI/ADAP/EXBA_pathfinder/data/ffi/kplr2010296192119_ffi-cal.fits',\n",
       "       '/Users/jorgemarpa/Work/BAERI/ADAP/EXBA_pathfinder/data/ffi/kplr2010326181728_ffi-cal.fits',\n",
       "       '/Users/jorgemarpa/Work/BAERI/ADAP/EXBA_pathfinder/data/ffi/kplr2010356020128_ffi-cal.fits',\n",
       "       '/Users/jorgemarpa/Work/BAERI/ADAP/EXBA_pathfinder/data/ffi/kplr2011024134926_ffi-cal.fits',\n",
       "       '/Users/jorgemarpa/Work/BAERI/ADAP/EXBA_pathfinder/data/ffi/kplr2011053174401_ffi-cal.fits',\n",
       "       '/Users/jorgemarpa/Work/BAERI/ADAP/EXBA_pathfinder/data/ffi/kplr2011116104002_ffi-cal.fits',\n",
       "       '/Users/jorgemarpa/Work/BAERI/ADAP/EXBA_pathfinder/data/ffi/kplr2011145152723_ffi-cal.fits',\n",
       "       '/Users/jorgemarpa/Work/BAERI/ADAP/EXBA_pathfinder/data/ffi/kplr2011177110110_ffi-cal.fits',\n",
       "       '/Users/jorgemarpa/Work/BAERI/ADAP/EXBA_pathfinder/data/ffi/kplr2011208112727_ffi-cal.fits',\n",
       "       '/Users/jorgemarpa/Work/BAERI/ADAP/EXBA_pathfinder/data/ffi/kplr2011240181752_ffi-cal.fits',\n",
       "       '/Users/jorgemarpa/Work/BAERI/ADAP/EXBA_pathfinder/data/ffi/kplr2011271191331_ffi-cal.fits',\n",
       "       '/Users/jorgemarpa/Work/BAERI/ADAP/EXBA_pathfinder/data/ffi/kplr2011303191211_ffi-cal.fits',\n",
       "       '/Users/jorgemarpa/Work/BAERI/ADAP/EXBA_pathfinder/data/ffi/kplr2011334181008_ffi-cal.fits',\n",
       "       '/Users/jorgemarpa/Work/BAERI/ADAP/EXBA_pathfinder/data/ffi/kplr2012004204112_ffi-cal.fits',\n",
       "       '/Users/jorgemarpa/Work/BAERI/ADAP/EXBA_pathfinder/data/ffi/kplr2012032101442_ffi-cal.fits',\n",
       "       '/Users/jorgemarpa/Work/BAERI/ADAP/EXBA_pathfinder/data/ffi/kplr2012060123308_ffi-cal.fits',\n",
       "       '/Users/jorgemarpa/Work/BAERI/ADAP/EXBA_pathfinder/data/ffi/kplr2012088132324_ffi-cal.fits',\n",
       "       '/Users/jorgemarpa/Work/BAERI/ADAP/EXBA_pathfinder/data/ffi/kplr2012121122500_ffi-cal.fits',\n",
       "       '/Users/jorgemarpa/Work/BAERI/ADAP/EXBA_pathfinder/data/ffi/kplr2012151105138_ffi-cal.fits',\n",
       "       '/Users/jorgemarpa/Work/BAERI/ADAP/EXBA_pathfinder/data/ffi/kplr2012179140901_ffi-cal.fits',\n",
       "       '/Users/jorgemarpa/Work/BAERI/ADAP/EXBA_pathfinder/data/ffi/kplr2012211123923_ffi-cal.fits',\n",
       "       '/Users/jorgemarpa/Work/BAERI/ADAP/EXBA_pathfinder/data/ffi/kplr2012242195726_ffi-cal.fits',\n",
       "       '/Users/jorgemarpa/Work/BAERI/ADAP/EXBA_pathfinder/data/ffi/kplr2012277203051_ffi-cal.fits',\n",
       "       '/Users/jorgemarpa/Work/BAERI/ADAP/EXBA_pathfinder/data/ffi/kplr2012310200152_ffi-cal.fits',\n",
       "       '/Users/jorgemarpa/Work/BAERI/ADAP/EXBA_pathfinder/data/ffi/kplr2012341215621_ffi-cal.fits',\n",
       "       '/Users/jorgemarpa/Work/BAERI/ADAP/EXBA_pathfinder/data/ffi/kplr2013011160902_ffi-cal.fits',\n",
       "       '/Users/jorgemarpa/Work/BAERI/ADAP/EXBA_pathfinder/data/ffi/kplr2013038133130_ffi-cal.fits',\n",
       "       '/Users/jorgemarpa/Work/BAERI/ADAP/EXBA_pathfinder/data/ffi/kplr2013065115251_ffi-cal.fits',\n",
       "       '/Users/jorgemarpa/Work/BAERI/ADAP/EXBA_pathfinder/data/ffi/kplr2013098115308_ffi-cal.fits'],\n",
       "      dtype='<U89')"
      ]
     },
     "execution_count": 12,
     "metadata": {},
     "output_type": "execute_result"
    }
   ],
   "source": [
    "ffi_list"
   ]
  },
  {
   "cell_type": "code",
   "execution_count": 14,
   "metadata": {},
   "outputs": [
    {
     "name": "stdout",
     "output_type": "stream",
     "text": [
      "/Users/jorgemarpa/Work/BAERI/ADAP/EXBA_pathfinder/data/ffi/5/kplr2010111125026_ffi-cal.fits\n",
      "/Users/jorgemarpa/Work/BAERI/ADAP/EXBA_pathfinder/data/ffi/5/kplr2010140101631_ffi-cal.fits\n",
      "/Users/jorgemarpa/Work/BAERI/ADAP/EXBA_pathfinder/data/ffi/6/kplr2010203012215_ffi-cal.fits\n",
      "/Users/jorgemarpa/Work/BAERI/ADAP/EXBA_pathfinder/data/ffi/6/kplr2010234192745_ffi-cal.fits\n",
      "/Users/jorgemarpa/Work/BAERI/ADAP/EXBA_pathfinder/data/ffi/7/kplr2010296192119_ffi-cal.fits\n",
      "/Users/jorgemarpa/Work/BAERI/ADAP/EXBA_pathfinder/data/ffi/7/kplr2010326181728_ffi-cal.fits\n",
      "/Users/jorgemarpa/Work/BAERI/ADAP/EXBA_pathfinder/data/ffi/8/kplr2011024134926_ffi-cal.fits\n",
      "/Users/jorgemarpa/Work/BAERI/ADAP/EXBA_pathfinder/data/ffi/8/kplr2011053174401_ffi-cal.fits\n",
      "/Users/jorgemarpa/Work/BAERI/ADAP/EXBA_pathfinder/data/ffi/9/kplr2011116104002_ffi-cal.fits\n",
      "/Users/jorgemarpa/Work/BAERI/ADAP/EXBA_pathfinder/data/ffi/9/kplr2011145152723_ffi-cal.fits\n",
      "/Users/jorgemarpa/Work/BAERI/ADAP/EXBA_pathfinder/data/ffi/10/kplr2011208112727_ffi-cal.fits\n",
      "/Users/jorgemarpa/Work/BAERI/ADAP/EXBA_pathfinder/data/ffi/10/kplr2011240181752_ffi-cal.fits\n",
      "/Users/jorgemarpa/Work/BAERI/ADAP/EXBA_pathfinder/data/ffi/11/kplr2011303191211_ffi-cal.fits\n",
      "/Users/jorgemarpa/Work/BAERI/ADAP/EXBA_pathfinder/data/ffi/11/kplr2011334181008_ffi-cal.fits\n",
      "/Users/jorgemarpa/Work/BAERI/ADAP/EXBA_pathfinder/data/ffi/12/kplr2012032101442_ffi-cal.fits\n",
      "/Users/jorgemarpa/Work/BAERI/ADAP/EXBA_pathfinder/data/ffi/12/kplr2012060123308_ffi-cal.fits\n",
      "/Users/jorgemarpa/Work/BAERI/ADAP/EXBA_pathfinder/data/ffi/13/kplr2012121122500_ffi-cal.fits\n",
      "/Users/jorgemarpa/Work/BAERI/ADAP/EXBA_pathfinder/data/ffi/13/kplr2012151105138_ffi-cal.fits\n",
      "/Users/jorgemarpa/Work/BAERI/ADAP/EXBA_pathfinder/data/ffi/14/kplr2012211123923_ffi-cal.fits\n",
      "/Users/jorgemarpa/Work/BAERI/ADAP/EXBA_pathfinder/data/ffi/14/kplr2012242195726_ffi-cal.fits\n",
      "/Users/jorgemarpa/Work/BAERI/ADAP/EXBA_pathfinder/data/ffi/15/kplr2012310200152_ffi-cal.fits\n",
      "/Users/jorgemarpa/Work/BAERI/ADAP/EXBA_pathfinder/data/ffi/15/kplr2012341215621_ffi-cal.fits\n",
      "/Users/jorgemarpa/Work/BAERI/ADAP/EXBA_pathfinder/data/ffi/16/kplr2013038133130_ffi-cal.fits\n",
      "/Users/jorgemarpa/Work/BAERI/ADAP/EXBA_pathfinder/data/ffi/16/kplr2013065115251_ffi-cal.fits\n"
     ]
    }
   ],
   "source": [
    "for ffi, q in which_quarter.items():\n",
    "    if not os.path.isdir(\"%s/data/ffi/%i\" % (path, q)):\n",
    "        os.mkdir(\"%s/data/ffi/%i\" % (path, q))\n",
    "    \n",
    "    name = ffi_list[ffi].split('/')[-1]\n",
    "    out = \"%s/data/ffi/%s/%s\" % (path, str(q), name)\n",
    "    print(out)\n",
    "    shutil.move(ffi_list[ffi], out)"
   ]
  },
  {
   "cell_type": "code",
   "execution_count": null,
   "metadata": {},
   "outputs": [],
   "source": []
  }
 ],
 "metadata": {
  "kernelspec": {
   "display_name": "adap",
   "language": "python",
   "name": "adap"
  },
  "language_info": {
   "codemirror_mode": {
    "name": "ipython",
    "version": 3
   },
   "file_extension": ".py",
   "mimetype": "text/x-python",
   "name": "python",
   "nbconvert_exporter": "python",
   "pygments_lexer": "ipython3",
   "version": "3.8.6"
  }
 },
 "nbformat": 4,
 "nbformat_minor": 4
}
